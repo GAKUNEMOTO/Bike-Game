{
  "nbformat": 4,
  "nbformat_minor": 0,
  "metadata": {
    "colab": {
      "provenance": [],
      "authorship_tag": "ABX9TyPbSG/gwHmRv5ssSy2rmrCT",
      "include_colab_link": true
    },
    "kernelspec": {
      "name": "python3",
      "display_name": "Python 3"
    },
    "language_info": {
      "name": "python"
    }
  },
  "cells": [
    {
      "cell_type": "markdown",
      "metadata": {
        "id": "view-in-github",
        "colab_type": "text"
      },
      "source": [
        "<a href=\"https://colab.research.google.com/github/GAKUNEMOTO/Bike-Game/blob/main/%E9%96%A2%E6%95%B0%E3%81%AE%E5%AE%9A%E7%BE%A9%E3%81%A8%E8%BF%94%E5%80%A4.ipynb\" target=\"_parent\"><img src=\"https://colab.research.google.com/assets/colab-badge.svg\" alt=\"Open In Colab\"/></a>"
      ]
    },
    {
      "cell_type": "code",
      "execution_count": 1,
      "metadata": {
        "id": "WkErCGnDCvm3"
      },
      "outputs": [],
      "source": [
        "def bmi(height, weight):\n",
        "  return weight / (height/100.0) ** 2"
      ]
    },
    {
      "cell_type": "code",
      "source": [
        "bmi(188.0,104.0)"
      ],
      "metadata": {
        "colab": {
          "base_uri": "https://localhost:8080/"
        },
        "id": "QV-ueisLDImn",
        "outputId": "f68235a9-634f-45ea-d5a4-b1ca69a9d702"
      },
      "execution_count": 2,
      "outputs": [
        {
          "output_type": "execute_result",
          "data": {
            "text/plain": [
              "29.425079221367138"
            ]
          },
          "metadata": {},
          "execution_count": 2
        }
      ]
    },
    {
      "cell_type": "code",
      "source": [
        "1.1*bmi(174.0,119.0 * 0.454)"
      ],
      "metadata": {
        "colab": {
          "base_uri": "https://localhost:8080/"
        },
        "id": "lgTytGegDMy1",
        "outputId": "3a39bbdf-5923-4402-9ef6-169f8d9519fa"
      },
      "execution_count": 3,
      "outputs": [
        {
          "output_type": "execute_result",
          "data": {
            "text/plain": [
              "19.628947020742505"
            ]
          },
          "metadata": {},
          "execution_count": 3
        }
      ]
    },
    {
      "cell_type": "code",
      "source": [
        "def felt_air_temperature(temperature, humidity):\n",
        "  return temperature - 1/ 2.3 * (temperature - 10) * (0.8 - humidity / 100)"
      ],
      "metadata": {
        "id": "I3R449VlDSaO"
      },
      "execution_count": 5,
      "outputs": []
    },
    {
      "cell_type": "code",
      "source": [
        "felt_air_temperature(28, 50)"
      ],
      "metadata": {
        "colab": {
          "base_uri": "https://localhost:8080/"
        },
        "id": "WL1ls4aIDkK9",
        "outputId": "01421733-d3f7-4780-c8ea-16f152dbdadf"
      },
      "execution_count": 6,
      "outputs": [
        {
          "output_type": "execute_result",
          "data": {
            "text/plain": [
              "25.652173913043477"
            ]
          },
          "metadata": {},
          "execution_count": 6
        }
      ]
    },
    {
      "cell_type": "markdown",
      "source": [
        "練習 ft_to_cm¶\n"
      ],
      "metadata": {
        "id": "5qa8STu1DuqA"
      }
    },
    {
      "cell_type": "code",
      "source": [
        "def ft_to_cm(f,i):\n",
        "  return 30.48*f + (30.48/12)*i"
      ],
      "metadata": {
        "id": "kAy_1zr1DzFX"
      },
      "execution_count": 28,
      "outputs": []
    },
    {
      "cell_type": "code",
      "source": [
        "assert round(ft_to_cm(5, 2) - 157.48, 6) == 0\n",
        "assert round(ft_to_cm(6, 5) - 195.58, 6) == 0"
      ],
      "metadata": {
        "id": "D82ciL_nD_gs"
      },
      "execution_count": 29,
      "outputs": []
    },
    {
      "cell_type": "markdown",
      "source": [
        "練習 quadratic"
      ],
      "metadata": {
        "id": "oV-hbgTrEHb9"
      }
    },
    {
      "cell_type": "code",
      "source": [
        "def quadratic(a,b,c,x):\n",
        "  return a * x * x + b * x + c"
      ],
      "metadata": {
        "id": "oYE_lpGAEHCv"
      },
      "execution_count": 14,
      "outputs": []
    },
    {
      "cell_type": "code",
      "source": [
        "assert quadratic(1, 2, 1, 3) == 16\n",
        "assert quadratic(1, -5, -2, 7) == 12"
      ],
      "metadata": {
        "id": "EwvNvaL4EON2"
      },
      "execution_count": 15,
      "outputs": []
    },
    {
      "cell_type": "markdown",
      "source": [
        "ローカル変数"
      ],
      "metadata": {
        "id": "7JLb0eBJEaMv"
      }
    },
    {
      "cell_type": "code",
      "source": [
        "import math\n",
        "\n",
        "def heron(a,b,c):\n",
        "  s = 0.5*(a+b+c)\n",
        "  return math.sqrt(s*(s-a)*(s-b)*(s-c))"
      ],
      "metadata": {
        "id": "MKaB3pBjEdFX"
      },
      "execution_count": 16,
      "outputs": []
    },
    {
      "cell_type": "code",
      "source": [
        "heron(3,4,5)"
      ],
      "metadata": {
        "colab": {
          "base_uri": "https://localhost:8080/"
        },
        "id": "nk3csw0_EkaZ",
        "outputId": "e9406cec-21cd-43b4-ebf9-159ce2c6bb03"
      },
      "execution_count": 17,
      "outputs": [
        {
          "output_type": "execute_result",
          "data": {
            "text/plain": [
              "6.0"
            ]
          },
          "metadata": {},
          "execution_count": 17
        }
      ]
    },
    {
      "cell_type": "code",
      "source": [
        "s = 100\n",
        "heron(3,4,5)\n"
      ],
      "metadata": {
        "colab": {
          "base_uri": "https://localhost:8080/"
        },
        "id": "CFjTG8yJE4WO",
        "outputId": "4acde239-8bcd-4d12-c953-298beff101d7"
      },
      "execution_count": 18,
      "outputs": [
        {
          "output_type": "execute_result",
          "data": {
            "text/plain": [
              "6.0"
            ]
          },
          "metadata": {},
          "execution_count": 18
        }
      ]
    },
    {
      "cell_type": "code",
      "source": [
        "s\n"
      ],
      "metadata": {
        "colab": {
          "base_uri": "https://localhost:8080/"
        },
        "id": "KNmpU2jhE6k5",
        "outputId": "dbea2a81-6542-45ed-8327-82337dbaa10c"
      },
      "execution_count": 19,
      "outputs": [
        {
          "output_type": "execute_result",
          "data": {
            "text/plain": [
              "100"
            ]
          },
          "metadata": {},
          "execution_count": 19
        }
      ]
    },
    {
      "cell_type": "markdown",
      "source": [
        "# グローバル変数"
      ],
      "metadata": {
        "id": "2kpJL5PxFAu6"
      }
    },
    {
      "cell_type": "code",
      "source": [
        "g = 9.8"
      ],
      "metadata": {
        "id": "7X74LkbBFE9v"
      },
      "execution_count": 21,
      "outputs": []
    },
    {
      "cell_type": "code",
      "source": [
        "def force(m):\n",
        "  return m * g"
      ],
      "metadata": {
        "id": "LAz7Rg2zFKJg"
      },
      "execution_count": 20,
      "outputs": []
    },
    {
      "cell_type": "code",
      "source": [
        "force(104)"
      ],
      "metadata": {
        "colab": {
          "base_uri": "https://localhost:8080/"
        },
        "id": "jokleWe5FN8u",
        "outputId": "2dd6efd4-cd4a-48ed-95b6-98ef38a1dae0"
      },
      "execution_count": 22,
      "outputs": [
        {
          "output_type": "execute_result",
          "data": {
            "text/plain": [
              "1019.2"
            ]
          },
          "metadata": {},
          "execution_count": 22
        }
      ]
    },
    {
      "cell_type": "code",
      "source": [
        "g = g/6"
      ],
      "metadata": {
        "id": "O9goIpUaFROq"
      },
      "execution_count": 23,
      "outputs": []
    },
    {
      "cell_type": "code",
      "source": [
        "force(104)"
      ],
      "metadata": {
        "colab": {
          "base_uri": "https://localhost:8080/"
        },
        "id": "n3oycE3eFTRm",
        "outputId": "cc0f16e5-3666-4159-d27a-9fbba2931f5d"
      },
      "execution_count": 24,
      "outputs": [
        {
          "output_type": "execute_result",
          "data": {
            "text/plain": [
              "169.86666666666667"
            ]
          },
          "metadata": {},
          "execution_count": 24
        }
      ]
    },
    {
      "cell_type": "code",
      "source": [
        "a = 10\n",
        "def foo():\n",
        "  return a\n",
        "def bar():\n",
        "  a = 3\n",
        "  return a"
      ],
      "metadata": {
        "id": "9viJwzoLFWxD"
      },
      "execution_count": 25,
      "outputs": []
    },
    {
      "cell_type": "code",
      "source": [
        "foo()"
      ],
      "metadata": {
        "colab": {
          "base_uri": "https://localhost:8080/"
        },
        "id": "A7RDLXOOFfhf",
        "outputId": "40fde8b2-748d-4c78-bfb9-436a03f8a616"
      },
      "execution_count": 26,
      "outputs": [
        {
          "output_type": "execute_result",
          "data": {
            "text/plain": [
              "10"
            ]
          },
          "metadata": {},
          "execution_count": 26
        }
      ]
    },
    {
      "cell_type": "code",
      "source": [
        "bar()"
      ],
      "metadata": {
        "colab": {
          "base_uri": "https://localhost:8080/"
        },
        "id": "greHt_M-FhMi",
        "outputId": "d5f4a11e-39b7-40be-af93-2d51244c609e"
      },
      "execution_count": 27,
      "outputs": [
        {
          "output_type": "execute_result",
          "data": {
            "text/plain": [
              "3"
            ]
          },
          "metadata": {},
          "execution_count": 27
        }
      ]
    }
  ]
}